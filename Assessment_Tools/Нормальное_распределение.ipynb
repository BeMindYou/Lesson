{
  "nbformat": 4,
  "nbformat_minor": 0,
  "metadata": {
    "colab": {
      "provenance": [],
      "authorship_tag": "ABX9TyNLnEI42XcBuB5Q/hlW70S1",
      "include_colab_link": true
    },
    "kernelspec": {
      "name": "python3",
      "display_name": "Python 3"
    },
    "language_info": {
      "name": "python"
    }
  },
  "cells": [
    {
      "cell_type": "markdown",
      "metadata": {
        "id": "view-in-github",
        "colab_type": "text"
      },
      "source": [
        "<a href=\"https://colab.research.google.com/github/BeMindYou/Lesson/blob/main/Assessment_Tools/%D0%9D%D0%BE%D1%80%D0%BC%D0%B0%D0%BB%D1%8C%D0%BD%D0%BE%D0%B5_%D1%80%D0%B0%D1%81%D0%BF%D1%80%D0%B5%D0%B4%D0%B5%D0%BB%D0%B5%D0%BD%D0%B8%D0%B5.ipynb\" target=\"_parent\"><img src=\"https://colab.research.google.com/assets/colab-badge.svg\" alt=\"Open In Colab\"/></a>"
      ]
    },
    {
      "cell_type": "markdown",
      "source": [
        "# Импорт библиотек:\n",
        "Импортируем необходимые библиотеки: pandas для работы с данными, matplotlib и seaborn для визуализации данных, scipy.stats для анализа нормального распределения."
      ],
      "metadata": {
        "id": "gS4rN8zoEeGM"
      }
    },
    {
      "cell_type": "code",
      "source": [
        "import pandas as pd\n",
        "import matplotlib.pyplot as plt\n",
        "import seaborn as sns\n",
        "import scipy.stats as stats\n",
        "import numpy as np\n"
      ],
      "metadata": {
        "id": "Rwp5V2avBkBj"
      },
      "execution_count": null,
      "outputs": []
    },
    {
      "cell_type": "markdown",
      "source": [
        "# Чтение данных из CSV файла:"
      ],
      "metadata": {
        "id": "C4ZNIzVqE14J"
      }
    },
    {
      "cell_type": "code",
      "execution_count": null,
      "metadata": {
        "id": "Fagk2ISK9--P"
      },
      "outputs": [],
      "source": [
        "# Загрузка нашего DataFrame Pandas\n",
        "file_path = '/content/USDT_faucetpay.csv'\n",
        "data = pd.read_csv(file_path)\n",
        "\n",
        "# Просмотр первых нескольких строк данных, чтобы понять структуру таблицы\n",
        "data.head()"
      ]
    },
    {
      "cell_type": "markdown",
      "source": [
        "# Преобразование даты (при необходимости):\n",
        "Если в данных есть колонка с датой, преобразуем ее в тип datetime для дальнейшего использования. Этот шаг закомментирован, так как он не всегда необходим."
      ],
      "metadata": {
        "id": "_SP5dtkAFTLY"
      }
    },
    {
      "cell_type": "code",
      "source": [
        "# data['DATA'] = pd.to_datetime(data['DATA'], format='%d.%m.%Y')\n"
      ],
      "metadata": {
        "id": "HG_Ng_yjFXsB"
      },
      "execution_count": null,
      "outputs": []
    },
    {
      "cell_type": "markdown",
      "source": [
        "# Построение графика для столбца DEPOSIT:"
      ],
      "metadata": {
        "id": "7Iq8GWdeFbJb"
      }
    },
    {
      "cell_type": "code",
      "source": [
        "plt.figure(figsize=(10, 6))\n",
        "plt.plot(data['DEPOSIT'], marker='o')\n",
        "plt.title('График DEPOSIT')\n",
        "plt.xlabel('Индекс')\n",
        "plt.ylabel('DEPOSIT')\n",
        "plt.grid(True)\n",
        "plt.show()"
      ],
      "metadata": {
        "id": "-hh9oyXwBwSb"
      },
      "execution_count": null,
      "outputs": []
    },
    {
      "cell_type": "markdown",
      "source": [
        "# Построение графиков нормального распределения для каждой колонки:\n",
        "Для каждого столбца из списка columns_to_plot строим гистограмму с линией KDE (Kernel Density Estimation). Также вычисляем параметры нормального распределения (среднее и стандартное отклонение) и строим соответствующую кривую плотности вероятности."
      ],
      "metadata": {
        "id": "Nf3907BWF5Gx"
      }
    },
    {
      "cell_type": "code",
      "source": [
        "# Определение правильных названий столбцов\n",
        "columns_to_plot = ['HIGHEST_BET', 'TOTAL_BET', 'WINS', 'LOSSES', 'NET_PROFIT']\n",
        "for column in columns_to_plot:\n",
        "    data[column] = pd.to_numeric(data[column], errors='coerce')\n",
        "    # Проверка наличия столбца в данных\n",
        "    if column in data.columns:\n",
        "        plt.figure(figsize=(10, 6))\n",
        "        sns.histplot(data[column].dropna(), kde=True, stat=\"density\", linewidth=0)\n",
        "\n",
        "        # Расчет параметров нормального распределения\n",
        "        mu, std = stats.norm.fit(data[column].dropna())\n",
        "        xmin, xmax = plt.xlim()\n",
        "        x = np.linspace(xmin, xmax, 100)\n",
        "        p = stats.norm.pdf(x, mu, std)\n",
        "\n",
        "        plt.plot(x, p, 'k', linewidth=2)\n",
        "        title = f'Нормальное распределение для {column}'\n",
        "        plt.title(title)\n",
        "        plt.xlabel(column)\n",
        "        plt.ylabel('Плотность')\n",
        "        plt.grid(True)\n",
        "        plt.show()\n",
        "    else:\n",
        "        print(f\"Столбец {column} отсутствует в данных\")"
      ],
      "metadata": {
        "id": "ethonaJRF6IZ"
      },
      "execution_count": null,
      "outputs": []
    }
  ]
}