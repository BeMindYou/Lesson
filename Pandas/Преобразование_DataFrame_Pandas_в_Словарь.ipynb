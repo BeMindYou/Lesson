{
  "nbformat": 4,
  "nbformat_minor": 0,
  "metadata": {
    "colab": {
      "provenance": []
    },
    "kernelspec": {
      "name": "python3",
      "display_name": "Python 3"
    },
    "language_info": {
      "name": "python"
    }
  },
  "cells": [
    {
      "cell_type": "markdown",
      "source": [
        "## Понимание метода Pandas .to_dict()"
      ],
      "metadata": {
        "id": "_DeTXlimTgmg"
      }
    },
    {
      "cell_type": "code",
      "execution_count": 1,
      "metadata": {
        "colab": {
          "base_uri": "https://localhost:8080/"
        },
        "id": "fpHfHO2JTeZV",
        "outputId": "ec0db7e5-ecc3-483e-b457-d1812b244a7a"
      },
      "outputs": [
        {
          "output_type": "execute_result",
          "data": {
            "text/plain": [
              "{}"
            ]
          },
          "metadata": {},
          "execution_count": 1
        }
      ],
      "source": [
        "# Понимание метода .to_dict() в Pandas\n",
        "import pandas as pd\n",
        "\n",
        "# Создание пустого DataFrame\n",
        "df = pd.DataFrame()\n",
        "\n",
        "# Преобразование DataFrame в словарь с помощью метода .to_dict()\n",
        "# Параметры метода:\n",
        "# - orient: ориентация словаря (в данном случае 'dict' - словарь, ключами которого являются столбцы, а значениями - словари с индексами и значениями)\n",
        "# - into: тип словаря, в который будет выполнено преобразование (в данном случае <class 'dict'> - обычный словарь Python)\n",
        "df.to_dict(orient='dict', into=dict)"
      ]
    },
    {
      "cell_type": "markdown",
      "source": [
        "## Загрузка образца DataFrame Pandas"
      ],
      "metadata": {
        "id": "TJBFis8mTvpg"
      }
    },
    {
      "cell_type": "code",
      "source": [
        "# Создание DataFrame с данными о имени, возрасте и оценке\n",
        "df = pd.DataFrame({\n",
        "    'Name': ['Nik', 'Evan', 'Kate'],\n",
        "    'Age': [33, 32, 33],\n",
        "    'Score': [90, 95, 100]\n",
        "})\n",
        "\n",
        "print(df)"
      ],
      "metadata": {
        "colab": {
          "base_uri": "https://localhost:8080/"
        },
        "id": "aOyZCMHuTu7f",
        "outputId": "4f76a4f7-61e6-4902-db9b-9e90ddfd3937"
      },
      "execution_count": 2,
      "outputs": [
        {
          "output_type": "stream",
          "name": "stdout",
          "text": [
            "   Name  Age  Score\n",
            "0   Nik   33     90\n",
            "1  Evan   32     95\n",
            "2  Kate   33    100\n"
          ]
        }
      ]
    },
    {
      "cell_type": "markdown",
      "source": [
        "## Преобразование фрейма данных Pandas в словарь"
      ],
      "metadata": {
        "id": "tMF1n24nULll"
      }
    },
    {
      "cell_type": "code",
      "source": [
        "# Преобразование DataFrame в словарь в Pandas\n",
        "df = pd.DataFrame({\n",
        "    'Name': ['Nik', 'Evan', 'Kate'],\n",
        "    'Age': [33, 32, 33],\n",
        "    'Score': [90, 95, 100]\n",
        "})\n",
        "\n",
        "print(df.to_dict())"
      ],
      "metadata": {
        "colab": {
          "base_uri": "https://localhost:8080/"
        },
        "id": "PLLPSFJ-UMor",
        "outputId": "de9c9d45-0cd9-4797-dcf8-276112608899"
      },
      "execution_count": 3,
      "outputs": [
        {
          "output_type": "stream",
          "name": "stdout",
          "text": [
            "{'Name': {0: 'Nik', 1: 'Evan', 2: 'Kate'}, 'Age': {0: 33, 1: 32, 2: 33}, 'Score': {0: 90, 1: 95, 2: 100}}\n"
          ]
        }
      ]
    },
    {
      "cell_type": "markdown",
      "source": [
        "## Преобразование DataFrame Pandas в словарь значений столбцов"
      ],
      "metadata": {
        "id": "Q655ezRxUTsO"
      }
    },
    {
      "cell_type": "code",
      "source": [
        "# Преобразование DataFrame в словарь, содержащий значения столбцов в списке\n",
        "df = pd.DataFrame({\n",
        "    'Name': ['Nik', 'Evan', 'Kate'],\n",
        "    'Age': [33, 32, 33],\n",
        "    'Score': [90, 95, 100]\n",
        "})\n",
        "\n",
        "print(df.to_dict('list'))"
      ],
      "metadata": {
        "colab": {
          "base_uri": "https://localhost:8080/"
        },
        "id": "1T0TrBVkUUm8",
        "outputId": "49ec65a8-320a-4165-a277-0e6588b55311"
      },
      "execution_count": 4,
      "outputs": [
        {
          "output_type": "stream",
          "name": "stdout",
          "text": [
            "{'Name': ['Nik', 'Evan', 'Kate'], 'Age': [33, 32, 33], 'Score': [90, 95, 100]}\n"
          ]
        }
      ]
    },
    {
      "cell_type": "markdown",
      "source": [
        "## Преобразование фрейма данных Pandas в словарь значений рядов"
      ],
      "metadata": {
        "id": "_WwJGXyNUi9m"
      }
    },
    {
      "cell_type": "code",
      "source": [
        "# Convert a Pandas DataFrame to a Dictionary of Series Values\n",
        "df = pd.DataFrame({\n",
        "    'Name': ['Nik', 'Evan', 'Kate'],\n",
        "    'Age': [33, 32, 33],\n",
        "    'Score': [90, 95, 100]\n",
        "})\n",
        "\n",
        "print(df.to_dict('series'))"
      ],
      "metadata": {
        "colab": {
          "base_uri": "https://localhost:8080/"
        },
        "id": "5d2vm46ZUj6O",
        "outputId": "44c995dc-29dd-4086-f0c3-7c69a66dab07"
      },
      "execution_count": 5,
      "outputs": [
        {
          "output_type": "stream",
          "name": "stdout",
          "text": [
            "{'Name': 0     Nik\n",
            "1    Evan\n",
            "2    Kate\n",
            "Name: Name, dtype: object, 'Age': 0    33\n",
            "1    32\n",
            "2    33\n",
            "Name: Age, dtype: int64, 'Score': 0     90\n",
            "1     95\n",
            "2    100\n",
            "Name: Score, dtype: int64}\n"
          ]
        }
      ]
    },
    {
      "cell_type": "markdown",
      "source": [
        "## Преобразование таблицы данных Pandas в индекс словаря, столбцы и данные"
      ],
      "metadata": {
        "id": "Gw_UYZGzUwPP"
      }
    },
    {
      "cell_type": "code",
      "source": [
        "# Преобразование DataFrame в словарь, содержащий индекс, названия столбцов и данные\n",
        "df = pd.DataFrame({\n",
        "    'Name': ['Nik', 'Evan', 'Kate'],\n",
        "    'Age': [33, 32, 33],\n",
        "    'Score': [90, 95, 100]\n",
        "})\n",
        "\n",
        "print(df.to_dict('split'))"
      ],
      "metadata": {
        "colab": {
          "base_uri": "https://localhost:8080/"
        },
        "id": "5IXqh57FUxCw",
        "outputId": "704ea85e-482d-4217-d7fa-b10dac8f7067"
      },
      "execution_count": 7,
      "outputs": [
        {
          "output_type": "stream",
          "name": "stdout",
          "text": [
            "{'index': [0, 1, 2], 'columns': ['Name', 'Age', 'Score'], 'data': [['Nik', 33, 90], ['Evan', 32, 95], ['Kate', 33, 100]]}\n"
          ]
        }
      ]
    },
    {
      "cell_type": "markdown",
      "source": [
        "Чтобы расширить эту функциональность, вы также можете передать в метод значение 'tight', чтобы получить более подробный словарь. Полученный словарь также включает названия индексов и столбцов, если они были указаны отдельно."
      ],
      "metadata": {
        "id": "hEh5B3TDV68N"
      }
    },
    {
      "cell_type": "code",
      "source": [
        "# Преобразование DataFrame Pandas в словарь индекса, столбцов и данных (часть 2)\n",
        "df = pd.DataFrame({\n",
        "    'Name': ['Nik', 'Evan', 'Kate'],\n",
        "    'Age': [33, 32, 33],\n",
        "    'Score': [90, 95, 100]\n",
        "})\n",
        "\n",
        "print(df.to_dict('tight'))"
      ],
      "metadata": {
        "colab": {
          "base_uri": "https://localhost:8080/"
        },
        "id": "l5zmms1kV7uU",
        "outputId": "cddb58b4-e76c-4b32-a83a-b0cf6e59b681"
      },
      "execution_count": 8,
      "outputs": [
        {
          "output_type": "stream",
          "name": "stdout",
          "text": [
            "{'index': [0, 1, 2], 'columns': ['Name', 'Age', 'Score'], 'data': [['Nik', 33, 90], ['Evan', 32, 95], ['Kate', 33, 100]], 'index_names': [None], 'column_names': [None]}\n"
          ]
        }
      ]
    },
    {
      "cell_type": "markdown",
      "source": [
        "## Преобразование фрейма данных Pandas в список словарей"
      ],
      "metadata": {
        "id": "vSda7pnXWdKn"
      }
    },
    {
      "cell_type": "code",
      "source": [
        "# Преобразование DataFrame в список словарей\n",
        "df = pd.DataFrame({\n",
        "    'Name': ['Nik', 'Evan', 'Kate'],\n",
        "    'Age': [33, 32, 33],\n",
        "    'Score': [90, 95, 100]\n",
        "})\n",
        "\n",
        "print(df.to_dict('records'))"
      ],
      "metadata": {
        "colab": {
          "base_uri": "https://localhost:8080/"
        },
        "id": "uaSP2oIqWgef",
        "outputId": "8d46d45d-c1ec-4eec-fdc8-ea9117706aeb"
      },
      "execution_count": 9,
      "outputs": [
        {
          "output_type": "stream",
          "name": "stdout",
          "text": [
            "[{'Name': 'Nik', 'Age': 33, 'Score': 90}, {'Name': 'Evan', 'Age': 32, 'Score': 95}, {'Name': 'Kate', 'Age': 33, 'Score': 100}]\n"
          ]
        }
      ]
    },
    {
      "cell_type": "markdown",
      "source": [
        "Полученный список будет упорядочен в соответствии с текущим порядком DataFrame. Если вам нужно включить индекс в словари, вы можете сначала сбросить индекс DataFrame. Это позволит включить индекс в список словарей:"
      ],
      "metadata": {
        "id": "ayl0kKqJW_vG"
      }
    },
    {
      "cell_type": "code",
      "source": [
        "# Преобразование DataFrame в список словарей с индексами\n",
        "df = pd.DataFrame({\n",
        "    'Name': ['Nik', 'Evan', 'Kate'],\n",
        "    'Age': [33, 32, 33],\n",
        "    'Score': [90, 95, 100]\n",
        "})\n",
        "df.reset_index(inplace=True)  # Сброс индексов исходного DataFrame\n",
        "print(df.to_dict('records'))"
      ],
      "metadata": {
        "colab": {
          "base_uri": "https://localhost:8080/"
        },
        "id": "z3aMQ2tdXAql",
        "outputId": "0b678f3a-dd64-4507-fe2d-dee0d90375e1"
      },
      "execution_count": 10,
      "outputs": [
        {
          "output_type": "stream",
          "name": "stdout",
          "text": [
            "[{'index': 0, 'Name': 'Nik', 'Age': 33, 'Score': 90}, {'index': 1, 'Name': 'Evan', 'Age': 32, 'Score': 95}, {'index': 2, 'Name': 'Kate', 'Age': 33, 'Score': 100}]\n"
          ]
        }
      ]
    },
    {
      "cell_type": "markdown",
      "source": [
        "## Преобразование фрейма данных Pandas в словарь индексов и значений"
      ],
      "metadata": {
        "id": "pMWpMOI2XhS7"
      }
    },
    {
      "cell_type": "code",
      "source": [
        "# Преобразование DataFrame в словарь с индексами и значениями\n",
        "df = pd.DataFrame({\n",
        "    'Name': ['Nik', 'Evan', 'Kate'],\n",
        "    'Age': [33, 32, 33],\n",
        "    'Score': [90, 95, 100]\n",
        "})\n",
        "\n",
        "print(df.to_dict('index'))"
      ],
      "metadata": {
        "colab": {
          "base_uri": "https://localhost:8080/"
        },
        "id": "V2nW__-OX5b7",
        "outputId": "cbc7d001-774f-4522-e4d4-84b5985e2617"
      },
      "execution_count": 11,
      "outputs": [
        {
          "output_type": "stream",
          "name": "stdout",
          "text": [
            "{0: {'Name': 'Nik', 'Age': 33, 'Score': 90}, 1: {'Name': 'Evan', 'Age': 32, 'Score': 95}, 2: {'Name': 'Kate', 'Age': 33, 'Score': 100}}\n"
          ]
        }
      ]
    },
    {
      "cell_type": "markdown",
      "source": [
        "## Преобразование двух серий (столбцов) Pandas в словарь"
      ],
      "metadata": {
        "id": "QgD6Uo9lX_iV"
      }
    },
    {
      "cell_type": "code",
      "source": [
        "# Преобразование двух столбцов DataFrame в словарь\n",
        "df = pd.DataFrame({\n",
        "    'Name': ['Nik', 'Evan', 'Kate'],\n",
        "    'Age': [33, 32, 33],\n",
        "    'Score': [90, 95, 100]\n",
        "})\n",
        "\n",
        "# Использование функции zip для создания словаря, где ключами будут значения из столбца 'Name', а значениями - из столбца 'Age'\n",
        "ages = dict(zip(df['Name'], df['Age']))\n",
        "print(ages)"
      ],
      "metadata": {
        "colab": {
          "base_uri": "https://localhost:8080/"
        },
        "id": "-PVIDz6rYK3_",
        "outputId": "8688086c-0360-480b-ba8e-722564c29437"
      },
      "execution_count": 12,
      "outputs": [
        {
          "output_type": "stream",
          "name": "stdout",
          "text": [
            "{'Nik': 33, 'Evan': 32, 'Kate': 33}\n"
          ]
        }
      ]
    }
  ]
}